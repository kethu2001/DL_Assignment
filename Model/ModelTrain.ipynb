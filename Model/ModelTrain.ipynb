{
  "nbformat": 4,
  "nbformat_minor": 0,
  "metadata": {
    "colab": {
      "provenance": []
    },
    "kernelspec": {
      "name": "python3",
      "display_name": "Python 3"
    },
    "language_info": {
      "name": "python"
    }
  },
  "cells": [
    {
      "cell_type": "markdown",
      "source": [
        "1. Logistic Regression"
      ],
      "metadata": {
        "id": "Jmf9NJ9QfyeT"
      }
    },
    {
      "cell_type": "code",
      "execution_count": 1,
      "metadata": {
        "id": "c1qv7wvvfNu0"
      },
      "outputs": [],
      "source": [
        "\n",
        "import pandas as pd\n",
        "from sklearn.model_selection import train_test_split\n",
        "from sklearn.metrics import accuracy_score, classification_report\n",
        "from sklearn.multioutput import MultiOutputClassifier\n",
        "\n",
        "# Load preprocessed data\n",
        "data = pd.read_csv('preprocessed_data.csv')\n",
        "\n",
        "# Define features and targets\n",
        "X = data[['aqi_value', 'co_aqi_value\\t', 'ozone_aqi_value', 'no2_aqi_value', 'pm2.5_aqi_value']]\n",
        "y = data[['aqi_category', 'co_aqi_category', 'ozone_aqi_category', 'no2_aqi_category', 'pm2.5_aqi_category']]\n",
        "\n",
        "# Split data into training and test sets\n",
        "X_train, X_test, y_train, y_test = train_test_split(X, y, test_size=0.2, random_state=42)\n"
      ]
    },
    {
      "cell_type": "code",
      "source": [
        "from sklearn.linear_model import LogisticRegression\n",
        "\n",
        "# Initialize the MultiOutputClassifier with Logistic Regression\n",
        "log_model = MultiOutputClassifier(LogisticRegression(max_iter=1000, random_state=42))\n",
        "\n",
        "# Train the model\n",
        "log_model.fit(X_train, y_train)\n",
        "\n",
        "# Make predictions\n",
        "y_pred_log = log_model.predict(X_test)\n",
        "\n",
        "# Calculate accuracy for each target\n",
        "accuracies = [accuracy_score(y_test.iloc[:, i], y_pred_log[:, i]) for i in range(y_test.shape[1])]\n",
        "\n",
        "# Average accuracy across all targets\n",
        "avg_accuracy = sum(accuracies) / len(accuracies)\n",
        "print(\"Logistic Regression Average Accuracy:\", avg_accuracy)\n",
        "\n",
        "# Classification report for each target\n",
        "for i in range(y_test.shape[1]):\n",
        "    print(f\"\\nClassification Report for Target '{y_test.columns[i]}':\")\n",
        "    print(classification_report(y_test.iloc[:, i], y_pred_log[:, i]))\n"
      ],
      "metadata": {
        "colab": {
          "base_uri": "https://localhost:8080/"
        },
        "id": "jOQu8vqxfigL",
        "outputId": "6fa609a1-efbe-4de2-b9f4-be83b9481bc3"
      },
      "execution_count": 2,
      "outputs": [
        {
          "output_type": "stream",
          "name": "stderr",
          "text": [
            "/usr/local/lib/python3.10/dist-packages/sklearn/linear_model/_logistic.py:469: ConvergenceWarning: lbfgs failed to converge (status=1):\n",
            "STOP: TOTAL NO. of ITERATIONS REACHED LIMIT.\n",
            "\n",
            "Increase the number of iterations (max_iter) or scale the data as shown in:\n",
            "    https://scikit-learn.org/stable/modules/preprocessing.html\n",
            "Please also refer to the documentation for alternative solver options:\n",
            "    https://scikit-learn.org/stable/modules/linear_model.html#logistic-regression\n",
            "  n_iter_i = _check_optimize_result(\n",
            "/usr/local/lib/python3.10/dist-packages/sklearn/linear_model/_logistic.py:469: ConvergenceWarning: lbfgs failed to converge (status=1):\n",
            "STOP: TOTAL NO. of ITERATIONS REACHED LIMIT.\n",
            "\n",
            "Increase the number of iterations (max_iter) or scale the data as shown in:\n",
            "    https://scikit-learn.org/stable/modules/preprocessing.html\n",
            "Please also refer to the documentation for alternative solver options:\n",
            "    https://scikit-learn.org/stable/modules/linear_model.html#logistic-regression\n",
            "  n_iter_i = _check_optimize_result(\n",
            "/usr/local/lib/python3.10/dist-packages/sklearn/linear_model/_logistic.py:469: ConvergenceWarning: lbfgs failed to converge (status=1):\n",
            "STOP: TOTAL NO. of ITERATIONS REACHED LIMIT.\n",
            "\n",
            "Increase the number of iterations (max_iter) or scale the data as shown in:\n",
            "    https://scikit-learn.org/stable/modules/preprocessing.html\n",
            "Please also refer to the documentation for alternative solver options:\n",
            "    https://scikit-learn.org/stable/modules/linear_model.html#logistic-regression\n",
            "  n_iter_i = _check_optimize_result(\n"
          ]
        },
        {
          "output_type": "stream",
          "name": "stdout",
          "text": [
            "Logistic Regression Average Accuracy: 0.9686563924462774\n",
            "\n",
            "Classification Report for Target 'aqi_category':\n",
            "                                precision    recall  f1-score   support\n",
            "\n",
            "                          Good       0.99      0.97      0.98      1926\n",
            "                     Hazardous       0.43      0.53      0.48        45\n",
            "                      Moderate       0.92      0.99      0.95      1841\n",
            "                     Unhealthy       0.75      0.93      0.83       405\n",
            "Unhealthy for Sensitive Groups       0.94      0.53      0.67       333\n",
            "                Very Unhealthy       0.20      0.02      0.03        57\n",
            "\n",
            "                      accuracy                           0.93      4607\n",
            "                     macro avg       0.71      0.66      0.66      4607\n",
            "                  weighted avg       0.92      0.93      0.92      4607\n",
            "\n",
            "\n",
            "Classification Report for Target 'co_aqi_category':\n",
            "              precision    recall  f1-score   support\n",
            "\n",
            "        Good       1.00      1.00      1.00      4607\n",
            "\n",
            "    accuracy                           1.00      4607\n",
            "   macro avg       1.00      1.00      1.00      4607\n",
            "weighted avg       1.00      1.00      1.00      4607\n",
            "\n",
            "\n",
            "Classification Report for Target 'ozone_aqi_category':\n",
            "                                precision    recall  f1-score   support\n",
            "\n",
            "                          Good       1.00      1.00      1.00      4149\n",
            "                      Moderate       0.98      0.99      0.99       275\n",
            "                     Unhealthy       0.84      0.82      0.83        76\n",
            "Unhealthy for Sensitive Groups       0.86      0.79      0.82        99\n",
            "                Very Unhealthy       0.00      0.00      0.00         8\n",
            "\n",
            "                      accuracy                           0.99      4607\n",
            "                     macro avg       0.74      0.72      0.73      4607\n",
            "                  weighted avg       0.99      0.99      0.99      4607\n",
            "\n",
            "\n",
            "Classification Report for Target 'no2_aqi_category':\n",
            "              precision    recall  f1-score   support\n",
            "\n",
            "        Good       1.00      1.00      1.00      4606\n",
            "    Moderate       1.00      1.00      1.00         1\n",
            "\n",
            "    accuracy                           1.00      4607\n",
            "   macro avg       1.00      1.00      1.00      4607\n",
            "weighted avg       1.00      1.00      1.00      4607\n",
            "\n",
            "\n",
            "Classification Report for Target 'pm2.5_aqi_category':\n",
            "                                precision    recall  f1-score   support\n",
            "\n",
            "                          Good       0.99      0.97      0.98      1988\n",
            "                     Hazardous       0.65      0.63      0.64        41\n",
            "                      Moderate       0.93      0.99      0.96      1803\n",
            "                     Unhealthy       0.72      0.97      0.83       384\n",
            "Unhealthy for Sensitive Groups       0.93      0.39      0.55       337\n",
            "                Very Unhealthy       0.55      0.33      0.41        54\n",
            "\n",
            "                      accuracy                           0.93      4607\n",
            "                     macro avg       0.80      0.72      0.73      4607\n",
            "                  weighted avg       0.93      0.93      0.92      4607\n",
            "\n"
          ]
        }
      ]
    }
  ]
}